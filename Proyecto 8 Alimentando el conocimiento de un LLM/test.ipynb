{
 "cells": [
  {
   "cell_type": "code",
   "outputs": [],
   "source": [
    "import json, os, toml, sys\n",
    "\n",
    "import matplotlib\n",
    "from langchain.graphs.networkx_graph import NetworkxEntityGraph, KnowledgeTriple\n",
    "from langchain_together import Together\n",
    "from langchain.indexes import GraphIndexCreator\n",
    "from langchain.chains import GraphQAChain\n",
    "import networkx as nx\n",
    "import matplotlib.pyplot as plt\n",
    "%matplotlib inline"
   ],
   "metadata": {
    "collapsed": false,
    "ExecuteTime": {
     "end_time": "2024-04-23T15:35:05.794857700Z",
     "start_time": "2024-04-23T15:35:05.763850900Z"
    }
   },
   "id": "566014024b98b3f",
   "execution_count": 5
  },
  {
   "cell_type": "code",
   "outputs": [
    {
     "name": "stdout",
     "output_type": "stream",
     "text": [
      "\n",
      "\n",
      "\u001B[1m> Entering new GraphQAChain chain...\u001B[0m\n",
      "Entities Extracted:\n",
      "\u001B[32;1m\u001B[1;3m Ostionada\u001B[0m\n",
      "Full Context:\n",
      "\u001B[32;1m\u001B[1;3m\u001B[0m\n",
      "\n",
      "\u001B[1m> Finished chain.\u001B[0m\n"
     ]
    },
    {
     "data": {
      "text/plain": "{}"
     },
     "execution_count": 7,
     "metadata": {},
     "output_type": "execute_result"
    },
    {
     "data": {
      "text/plain": "<Figure size 625x625 with 1 Axes>",
      "image/png": "[encoded data removed]"
     },
     "metadata": {},
     "output_type": "display_data"
    }
   ],
   "source": [
    "def load_api_key(toml_file_path=\"secrets.toml\"):\n",
    "    try:\n",
    "        with open(toml_file_path, 'r') as file:\n",
    "            data = toml.load(file)\n",
    "    except FileNotFoundError:\n",
    "        print(f\"File not found: {toml_file_path}\", file=sys.stderr)\n",
    "        return\n",
    "    except toml.TomlDecodeError:\n",
    "        print(f\"Error decoding TOML file: {toml_file_path}\", file=sys.stderr)\n",
    "        return\n",
    "    # Set environment variables\n",
    "    for key, value in data.items():\n",
    "        os.environ[key] = str(value)\n",
    "\n",
    "def read_json_triplets(file_path):\n",
    "    try:\n",
    "        with open(file_path, 'r') as file:\n",
    "            data = json.load(file)\n",
    "            return [(item['sujeto'], item['predicado'], item['objeto']) for item in data if 'sujeto' in item and 'predicado' in item and 'objeto' in item]\n",
    "    except json.JSONDecodeError:\n",
    "        print(f\"Error al leer el archivo JSON: {file_path}\")\n",
    "        return []\n",
    "\n",
    "\n",
    "load_api_key()\n",
    "\n",
    "# Buscar archivos que comiencen con \"triplets\" y terminen en \".txt\"\n",
    "files = [f for f in os.listdir() if f.startswith(\"triplets\") and f.endswith(\".txt\")]\n",
    "\n",
    "kg = []\n",
    "for file_name in files:\n",
    "    file_path = os.path.join(os.getcwd(), file_name)\n",
    "    triplets = read_json_triplets(file_path)\n",
    "    kg.extend(triplets)\n",
    "\n",
    "graph = NetworkxEntityGraph()\n",
    "# Añadir los triplets al graph\n",
    "for (node1, relation, node2) in kg:\n",
    "    graph.add_triple(KnowledgeTriple(node1, relation, node2))\n",
    "\n",
    "## Preguntar\n",
    "question = \"¿Cuándo y dónde es la Ostionada?\"\n",
    "chain = GraphQAChain.from_llm(llm=Together(together_api_key=os.environ.get(\"TOGETHER_API_KEY\"),model=\"microsoft/WizardLM-2-8x22B\",temperature=0, max_tokens=400), graph=graph, verbose=True)\n",
    "chain.invoke(question)\n",
    "\n",
    "'''\n",
    "> Entering new GraphQAChain chain...\n",
    "Entities Extracted:\n",
    " Ostionada\n",
    "Full Context:\n",
    "Ostionada se celebra domingo 28 de enero\n",
    "Ostionada ubicación plaza de San Antonio, Cádiz\n",
    "Ostionada celebra edición número 37\n",
    "\n",
    "> Finished chain.\n",
    "'''\n",
    "\n",
    "# Dibujar el grafo\n",
    "# Create directed graph\n",
    "G = nx.DiGraph()\n",
    "for node1, relation, node2 in kg:\n",
    "    ## Añadimos solamente los 50 primeros nodos\n",
    "    if len(G.nodes) >= 80:\n",
    "        break\n",
    "    G.add_edge(node1, node2, label=relation)\n",
    "\n",
    "# Plot the graph\n",
    "plt.figure(figsize=(25, 25), dpi=25)\n",
    "pos = nx.spring_layout(G, k=2, iterations=50, seed=0)\n",
    "\n",
    "nx.draw_networkx_nodes(G, pos, node_size=5000)\n",
    "nx.draw_networkx_edges(G, pos, edge_color='blue', edgelist=G.edges(), width=2)\n",
    "nx.draw_networkx_labels(G, pos, font_size=12)\n",
    "edge_labels = nx.get_edge_attributes(G, 'label')\n",
    "nx.draw_networkx_edge_labels(G, pos, edge_labels=edge_labels, font_size=12)"
   ],
   "metadata": {
    "collapsed": false,
    "ExecuteTime": {
     "end_time": "2024-04-23T15:36:55.505167500Z",
     "start_time": "2024-04-23T15:36:44.756362800Z"
    }
   },
   "id": "5675bc5f68b4fc6a",
   "execution_count": 7
  },
  {
   "cell_type": "code",
   "outputs": [
    {
     "data": {
      "text/plain": "<Figure size 640x480 with 1 Axes>",
      "image/png": "[encoded data removed]"
     },
     "metadata": {},
     "output_type": "display_data"
    }
   ],
   "source": [
    "# Display the plot\n",
    "plt.axis('off')\n",
    "plt.show()"
   ],
   "metadata": {
    "collapsed": false,
    "ExecuteTime": {
     "end_time": "2024-04-23T15:37:00.063426100Z",
     "start_time": "2024-04-23T15:36:59.976953800Z"
    }
   },
   "id": "78b65ec24e4cfb6d",
   "execution_count": 8
  },
  {
   "cell_type": "code",
   "outputs": [],
   "source": [
    "plt.savefig('graph.png')"
   ],
   "metadata": {
    "collapsed": false
   },
   "id": "1d3fa47d9778220d"
  }
 ],
 "metadata": {
  "kernelspec": {
   "display_name": "Python 3",
   "language": "python",
   "name": "python3"
  },
  "language_info": {
   "codemirror_mode": {
    "name": "ipython",
    "version": 2
   },
   "file_extension": ".py",
   "mimetype": "text/x-python",
   "name": "python",
   "nbconvert_exporter": "python",
   "pygments_lexer": "ipython2",
   "version": "2.7.6"
  }
 },
 "nbformat": 4,
 "nbformat_minor": 5
}
